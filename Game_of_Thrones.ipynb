{
 "cells": [
  {
   "cell_type": "markdown",
   "id": "ed221c3a-ea0a-4d1e-82cf-c8d7a38bcc63",
   "metadata": {},
   "source": [
    "**Author:** *Oliwia Iwańska, 396753*"
   ]
  },
  {
   "cell_type": "markdown",
   "id": "750d7753-fbef-408c-8150-e160aea9d94c",
   "metadata": {},
   "source": [
    "![Game of Thrones Logo](Logo_Game_of_Thrones.png)"
   ]
  },
  {
   "cell_type": "markdown",
   "id": "96776ff8-8939-41a9-abf3-752d566ff42b",
   "metadata": {},
   "source": [
    "# Game of Thrones"
   ]
  },
  {
   "cell_type": "markdown",
   "id": "287f2d41-dfbd-41ef-bcda-18049550bb2f",
   "metadata": {},
   "source": [
    "## Introduction\n",
    "\n",
    "**Game of Thrones**, based on *A Song of Ice and Fire* by **George R. R. Martin**, is a monumental fantasy television series that aired from 2011 to 2019. Renowned for its complex characters, intricate political plots, and breathtaking landscapes, the series is set in the fictional continents of Westeros and Essos. It explores themes of power struggles, loyalty, corruption, civil war, and the looming threat of the supernatural. **Game of Thrones** has had a profound cultural impact, setting records for viewership and receiving numerous awards. The show is noted for its bold storytelling decisions, high production values, and its ability to evoke a wide range of emotions from its audience."
   ]
  },
  {
   "cell_type": "markdown",
   "id": "02bbdf61-08e7-4c6f-9086-a7b9486fc618",
   "metadata": {},
   "source": [
    "## Data Analysis Overview\n",
    "\n",
    "In this section, we will delve into the viewership and episode data for **Game of Thrones**. We aim to uncover trends and insights through various statistical methods and visualizations. Our analysis will focus on viewership patterns across different seasons, significant spikes in viewership, and any correlations with major episodes or events in the series. By the end of this section, we should have a clearer understanding of the series' impact and its audience dynamics over time."
   ]
  },
  {
   "cell_type": "code",
   "execution_count": 4,
   "id": "8dc41822-79d3-4079-b013-327009612d2c",
   "metadata": {},
   "outputs": [],
   "source": [
    "import pandas as pd"
   ]
  },
  {
   "cell_type": "code",
   "execution_count": 3,
   "id": "0ae2295a-56d7-4f76-8244-366aa7f4fab8",
   "metadata": {},
   "outputs": [],
   "source": [
    "df = pd.read_csv('Game_of_Thrones.csv')"
   ]
  },
  {
   "cell_type": "code",
   "execution_count": null,
   "id": "780295a5-6cc4-4912-88d9-6d18f81da886",
   "metadata": {},
   "outputs": [],
   "source": []
  }
 ],
 "metadata": {
  "kernelspec": {
   "display_name": "Python 3 (ipykernel)",
   "language": "python",
   "name": "python3"
  },
  "language_info": {
   "codemirror_mode": {
    "name": "ipython",
    "version": 3
   },
   "file_extension": ".py",
   "mimetype": "text/x-python",
   "name": "python",
   "nbconvert_exporter": "python",
   "pygments_lexer": "ipython3",
   "version": "3.9.13"
  }
 },
 "nbformat": 4,
 "nbformat_minor": 5
}
