{
 "cells": [
  {
   "cell_type": "markdown",
   "id": "ed221c3a-ea0a-4d1e-82cf-c8d7a38bcc63",
   "metadata": {},
   "source": [
    "**Author:** *Oliwia Iwańska, 396753*"
   ]
  },
  {
   "cell_type": "markdown",
   "id": "750d7753-fbef-408c-8150-e160aea9d94c",
   "metadata": {},
   "source": [
    "![Game of Thrones Logo](Logo_Game_of_Thrones.png)"
   ]
  },
  {
   "cell_type": "markdown",
   "id": "96776ff8-8939-41a9-abf3-752d566ff42b",
   "metadata": {},
   "source": [
    "# Game of Thrones"
   ]
  },
  {
   "cell_type": "markdown",
   "id": "287f2d41-dfbd-41ef-bcda-18049550bb2f",
   "metadata": {},
   "source": [
    "## Introduction\n",
    "\n",
    "**Game of Thrones**, based on *A Song of Ice and Fire* by **George R. R. Martin**, is a monumental fantasy television series that aired from 2011 to 2019. Renowned for its complex characters, intricate political plots, and breathtaking landscapes, the series is set in the fictional continents of Westeros and Essos. It explores themes of power struggles, loyalty, corruption, civil war, and the looming threat of the supernatural. **Game of Thrones** has had a profound cultural impact, setting records for viewership and receiving numerous awards. The show is noted for its bold storytelling decisions, high production values, and its ability to evoke a wide range of emotions from its audience."
   ]
  },
  {
   "cell_type": "markdown",
   "id": "02bbdf61-08e7-4c6f-9086-a7b9486fc618",
   "metadata": {},
   "source": [
    "## Data Analysis Overview\n",
    "\n",
    "In this section, we will delve into the viewership and episode data for **Game of Thrones**. We aim to uncover trends and insights through various statistical methods and visualizations. Our analysis will focus on viewership patterns across different seasons, significant spikes in viewership, and any correlations with major episodes or events in the series. By the end of this section, we should have a clearer understanding of the series' impact and its audience dynamics over time."
   ]
  },
  {
   "cell_type": "code",
   "execution_count": 4,
   "id": "8dc41822-79d3-4079-b013-327009612d2c",
   "metadata": {},
   "outputs": [],
   "source": [
    "import pandas as pd"
   ]
  },
  {
   "cell_type": "code",
   "execution_count": 3,
   "id": "0ae2295a-56d7-4f76-8244-366aa7f4fab8",
   "metadata": {},
   "outputs": [],
   "source": [
    "df = pd.read_csv('Game_of_Thrones.csv')"
   ]
  },
  {
   "cell_type": "markdown",
   "id": "b9685da3-50f9-4690-931d-3ffa19fbe761",
   "metadata": {},
   "source": [
    "The dataset contains 73 rows, each representing an episode from the 8 seasons of \"Game of Thrones.\" Below there are some average metrcis per season. It focuses on viewership and ratings.\n",
    "\n",
    "In general the data reflects increasing popularity in terms of viewership across seasons, despite a significant dip in critical ratings in the final season. \n",
    "\n",
    "- Viewership has grown steadily from an average of 2.52 million in Season 1 to nearly 11.99 million in Season 8.\n",
    "- Generally high ratings across all seasons, peaking in Season 4 with an average of 9.23 but notably dropping in Season 8 to an average of 6.42.\n",
    "- Rotten Tomatoes ratings were consistently high until Season 8, which saw a significant drop to an average of 67.83%.\n",
    "- Metacritic ratings also declined over the series, with Season 8 averaging only 4.08 out of 10."
   ]
  },
  {
   "cell_type": "code",
   "execution_count": 10,
   "id": "780295a5-6cc4-4912-88d9-6d18f81da886",
   "metadata": {},
   "outputs": [
    {
     "data": {
      "text/html": [
       "<div>\n",
       "<style scoped>\n",
       "    .dataframe tbody tr th:only-of-type {\n",
       "        vertical-align: middle;\n",
       "    }\n",
       "\n",
       "    .dataframe tbody tr th {\n",
       "        vertical-align: top;\n",
       "    }\n",
       "\n",
       "    .dataframe thead th {\n",
       "        text-align: right;\n",
       "    }\n",
       "</style>\n",
       "<table border=\"1\" class=\"dataframe\">\n",
       "  <thead>\n",
       "    <tr style=\"text-align: right;\">\n",
       "      <th></th>\n",
       "      <th>Season</th>\n",
       "      <th>Average Viewership (Millions)</th>\n",
       "      <th>Average IMDb Rating</th>\n",
       "      <th>Average Rotten Tomatoes Rating (%)</th>\n",
       "      <th>Average Metacritic Rating</th>\n",
       "    </tr>\n",
       "  </thead>\n",
       "  <tbody>\n",
       "    <tr>\n",
       "      <th>0</th>\n",
       "      <td>1</td>\n",
       "      <td>2.52</td>\n",
       "      <td>8.97</td>\n",
       "      <td>97.10</td>\n",
       "      <td>9.12</td>\n",
       "    </tr>\n",
       "    <tr>\n",
       "      <th>1</th>\n",
       "      <td>2</td>\n",
       "      <td>3.80</td>\n",
       "      <td>8.81</td>\n",
       "      <td>97.00</td>\n",
       "      <td>8.70</td>\n",
       "    </tr>\n",
       "    <tr>\n",
       "      <th>2</th>\n",
       "      <td>3</td>\n",
       "      <td>4.97</td>\n",
       "      <td>8.93</td>\n",
       "      <td>93.70</td>\n",
       "      <td>8.75</td>\n",
       "    </tr>\n",
       "    <tr>\n",
       "      <th>3</th>\n",
       "      <td>4</td>\n",
       "      <td>6.85</td>\n",
       "      <td>9.23</td>\n",
       "      <td>96.70</td>\n",
       "      <td>8.95</td>\n",
       "    </tr>\n",
       "    <tr>\n",
       "      <th>4</th>\n",
       "      <td>5</td>\n",
       "      <td>6.88</td>\n",
       "      <td>8.71</td>\n",
       "      <td>89.50</td>\n",
       "      <td>8.30</td>\n",
       "    </tr>\n",
       "    <tr>\n",
       "      <th>5</th>\n",
       "      <td>6</td>\n",
       "      <td>7.69</td>\n",
       "      <td>8.99</td>\n",
       "      <td>92.40</td>\n",
       "      <td>6.70</td>\n",
       "    </tr>\n",
       "    <tr>\n",
       "      <th>6</th>\n",
       "      <td>7</td>\n",
       "      <td>10.26</td>\n",
       "      <td>9.03</td>\n",
       "      <td>91.86</td>\n",
       "      <td>5.86</td>\n",
       "    </tr>\n",
       "    <tr>\n",
       "      <th>7</th>\n",
       "      <td>8</td>\n",
       "      <td>11.99</td>\n",
       "      <td>6.42</td>\n",
       "      <td>67.83</td>\n",
       "      <td>4.08</td>\n",
       "    </tr>\n",
       "  </tbody>\n",
       "</table>\n",
       "</div>"
      ],
      "text/plain": [
       "   Season  Average Viewership (Millions)  Average IMDb Rating  \\\n",
       "0       1                           2.52                 8.97   \n",
       "1       2                           3.80                 8.81   \n",
       "2       3                           4.97                 8.93   \n",
       "3       4                           6.85                 9.23   \n",
       "4       5                           6.88                 8.71   \n",
       "5       6                           7.69                 8.99   \n",
       "6       7                          10.26                 9.03   \n",
       "7       8                          11.99                 6.42   \n",
       "\n",
       "   Average Rotten Tomatoes Rating (%)  Average Metacritic Rating  \n",
       "0                               97.10                       9.12  \n",
       "1                               97.00                       8.70  \n",
       "2                               93.70                       8.75  \n",
       "3                               96.70                       8.95  \n",
       "4                               89.50                       8.30  \n",
       "5                               92.40                       6.70  \n",
       "6                               91.86                       5.86  \n",
       "7                               67.83                       4.08  "
      ]
     },
     "execution_count": 10,
     "metadata": {},
     "output_type": "execute_result"
    }
   ],
   "source": [
    "average_viewers_per_season = df.groupby('Season')['U.S. Viewers (Millions)'].mean().round(2)\n",
    "average_imdb_rating_per_season = df.groupby('Season')['IMDb Rating'].mean().round(2)\n",
    "average_rotten_tomatoes_rating_per_season = df.groupby('Season')['Rotten Tomatoes Rating (Percentage)'].mean().round(2)\n",
    "average_metacritic_rating_per_season = df.groupby('Season')['Metacritic Ratings'].mean().round(2)\n",
    "\n",
    "summary_table = pd.DataFrame({\n",
    "    \"Season\": average_viewers_per_season.index,\n",
    "    \"Average Viewership (Millions)\": average_viewers_per_season.values,\n",
    "    \"Average IMDb Rating\": average_imdb_rating_per_season.values,\n",
    "    \"Average Rotten Tomatoes Rating (%)\": average_rotten_tomatoes_rating_per_season.values,\n",
    "    \"Average Metacritic Rating\": average_metacritic_rating_per_season.values\n",
    "})\n",
    "\n",
    "summary_table"
   ]
  }
 ],
 "metadata": {
  "kernelspec": {
   "display_name": "Python 3 (ipykernel)",
   "language": "python",
   "name": "python3"
  },
  "language_info": {
   "codemirror_mode": {
    "name": "ipython",
    "version": 3
   },
   "file_extension": ".py",
   "mimetype": "text/x-python",
   "name": "python",
   "nbconvert_exporter": "python",
   "pygments_lexer": "ipython3",
   "version": "3.9.13"
  }
 },
 "nbformat": 4,
 "nbformat_minor": 5
}
